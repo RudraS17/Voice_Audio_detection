{
  "cells": [
    {
      "cell_type": "markdown",
      "metadata": {
        "id": "view-in-github",
        "colab_type": "text"
      },
      "source": [
        "<a href=\"https://colab.research.google.com/github/RudraS17/CV/blob/main/Copy_of_silero_vad.ipynb\" target=\"_parent\"><img src=\"https://colab.research.google.com/assets/colab-badge.svg\" alt=\"Open In Colab\"/></a>"
      ]
    },
    {
      "cell_type": "markdown",
      "metadata": {
        "heading_collapsed": true,
        "id": "62A6F_072Fwq"
      },
      "source": [
        "## Install Dependencies"
      ]
    },
    {
      "cell_type": "code",
      "execution_count": 13,
      "metadata": {
        "hidden": true,
        "id": "5w5AkskZ2Fwr"
      },
      "outputs": [],
      "source": [
        "#@title Install and Import Dependencies\n",
        "\n",
        "# this assumes that you have a relevant version of PyTorch installed\n",
        "!pip install -q torchaudio\n",
        "\n",
        "SAMPLING_RATE = 16000\n",
        "\n",
        "import torch\n",
        "torch.set_num_threads(1)\n",
        "\n",
        "from IPython.display import Audio\n",
        "from pprint import pprint\n",
        "# download example\n",
        "#torch.hub.download_url_to_file('https://models.silero.ai/vad_models/en.wav', 'en_example.wav')"
      ]
    },
    {
      "cell_type": "code",
      "execution_count": 14,
      "metadata": {
        "id": "pSifus5IilRp",
        "outputId": "bd7966b3-4e43-40f9-e078-a3b17ea9c1fb",
        "colab": {
          "base_uri": "https://localhost:8080/"
        }
      },
      "outputs": [
        {
          "output_type": "stream",
          "name": "stderr",
          "text": [
            "Downloading: \"https://github.com/snakers4/silero-vad/zipball/master\" to /root/.cache/torch/hub/master.zip\n"
          ]
        }
      ],
      "source": [
        "USE_ONNX = False # change this to True if you want to test onnx model\n",
        "if USE_ONNX:\n",
        "    !pip install -q onnxruntime\n",
        "\n",
        "model, utils = torch.hub.load(repo_or_dir='snakers4/silero-vad',\n",
        "                              model='silero_vad',\n",
        "                              force_reload=True,\n",
        "                              onnx=USE_ONNX)\n",
        "\n",
        "(get_speech_timestamps,\n",
        " save_audio,\n",
        " read_audio,\n",
        " VADIterator,\n",
        " collect_chunks) = utils"
      ]
    },
    {
      "cell_type": "markdown",
      "metadata": {
        "id": "fXbbaUO3jsrw"
      },
      "source": [
        "## Full Audio"
      ]
    },
    {
      "cell_type": "markdown",
      "metadata": {
        "id": "RAfJPb_a-Auj"
      },
      "source": [
        "**Speech timestapms from full audio**"
      ]
    },
    {
      "cell_type": "code",
      "execution_count": 15,
      "metadata": {
        "id": "aI_eydBPjsrx",
        "outputId": "a63a7795-d968-46da-f279-3c62a5328017",
        "colab": {
          "base_uri": "https://localhost:8080/"
        }
      },
      "outputs": [
        {
          "output_type": "stream",
          "name": "stdout",
          "text": [
            "[{'end': 12144, 'start': 2592}]\n"
          ]
        }
      ],
      "source": [
        "wav = read_audio('/content/mixkit-child-laughing-happily-2263.wav', sampling_rate=SAMPLING_RATE)\n",
        "# get speech timestamps from full audio file\n",
        "speech_timestamps = get_speech_timestamps(wav, model, sampling_rate=SAMPLING_RATE)\n",
        "pprint(speech_timestamps)"
      ]
    },
    {
      "cell_type": "code",
      "execution_count": 16,
      "metadata": {
        "id": "OuEobLchjsry",
        "outputId": "4949e41d-c2df-4486-b651-bd07cffd728c",
        "colab": {
          "base_uri": "https://localhost:8080/",
          "height": 75
        }
      },
      "outputs": [
        {
          "output_type": "execute_result",
          "data": {
            "text/plain": [
              "<IPython.lib.display.Audio object>"
            ],
            "text/html": [
              "\n",
              "                <audio  controls=\"controls\" >\n",
              "                    <source src=\"data:audio/x-wav;base64,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\" type=\"audio/x-wav\" />\n",
              "                    Your browser does not support the audio element.\n",
              "                </audio>\n",
              "              "
            ]
          },
          "metadata": {},
          "execution_count": 16
        }
      ],
      "source": [
        "# merge all speech chunks to one audio\n",
        "save_audio('only_speech.wav',\n",
        "           collect_chunks(speech_timestamps, wav), sampling_rate=SAMPLING_RATE)\n",
        "Audio('only_speech.wav')"
      ]
    },
    {
      "cell_type": "markdown",
      "metadata": {
        "id": "iDKQbVr8jsry"
      },
      "source": [
        "## Stream imitation example"
      ]
    },
    {
      "cell_type": "code",
      "execution_count": 17,
      "metadata": {
        "id": "q-lql_2Wjsry",
        "outputId": "d78a4e72-5960-4cd1-edd6-d9d645d14831",
        "colab": {
          "base_uri": "https://localhost:8080/"
        }
      },
      "outputs": [
        {
          "output_type": "stream",
          "name": "stdout",
          "text": [
            "{'start': 0.3} "
          ]
        }
      ],
      "source": [
        "## using VADIterator class\n",
        "\n",
        "vad_iterator = VADIterator(model)\n",
        "wav = read_audio(f'/content/mixkit-child-laughing-happily-2263.wav', sampling_rate=SAMPLING_RATE)\n",
        "\n",
        "window_size_samples = 1536 # number of samples in a single audio chunk\n",
        "for i in range(0, len(wav), window_size_samples):\n",
        "    chunk = wav[i: i+ window_size_samples]\n",
        "    if len(chunk) < window_size_samples:\n",
        "      break\n",
        "    speech_dict = vad_iterator(chunk, return_seconds=True)\n",
        "    if speech_dict:\n",
        "        print(speech_dict, end=' ')\n",
        "vad_iterator.reset_states() # reset model states after each audio"
      ]
    },
    {
      "cell_type": "code",
      "execution_count": 18,
      "metadata": {
        "id": "BX3UgwwB2Fwv",
        "outputId": "b1709a5c-3e62-4ea5-893e-4c0398e90cff",
        "colab": {
          "base_uri": "https://localhost:8080/"
        }
      },
      "outputs": [
        {
          "output_type": "stream",
          "name": "stdout",
          "text": [
            "True\n"
          ]
        }
      ],
      "source": [
        "## just probabilities\n",
        "\n",
        "wav = read_audio('/content/mixkit-child-laughing-happily-2263.wav', sampling_rate=SAMPLING_RATE)\n",
        "speech_probs = []\n",
        "window_size_samples = 1536\n",
        "for i in range(0, len(wav), window_size_samples):\n",
        "    chunk = wav[i: i+ window_size_samples]\n",
        "    if len(chunk) < window_size_samples:\n",
        "      break\n",
        "    speech_prob = model(chunk, SAMPLING_RATE).item()\n",
        "    speech_probs.append(speech_prob)\n",
        "vad_iterator.reset_states() # reset model states after each audio\n",
        "count=0\n",
        "border=len(speech_probs)/2\n",
        "for i in range(0,len(speech_probs)):\n",
        "  if speech_probs[i]>0.5:\n",
        "    count=count+1\n",
        "if count>border:\n",
        "  print(\"True\")\n",
        "else:\n",
        "  print(\"False\")\n",
        "\n",
        "#print(len(speech_probs))\n",
        "#print(speech_probs[:10]) # first 10 chunks predicts"
      ]
    },
    {
      "cell_type": "code",
      "source": [],
      "metadata": {
        "id": "eH6uLvGYxDdt"
      },
      "execution_count": 18,
      "outputs": []
    }
  ],
  "metadata": {
    "colab": {
      "provenance": [],
      "include_colab_link": true
    },
    "kernelspec": {
      "display_name": "Python 3",
      "language": "python",
      "name": "python3"
    },
    "language_info": {
      "codemirror_mode": {
        "name": "ipython",
        "version": 3
      },
      "file_extension": ".py",
      "mimetype": "text/x-python",
      "name": "python",
      "nbconvert_exporter": "python",
      "pygments_lexer": "ipython3",
      "version": "3.8.8"
    },
    "toc": {
      "base_numbering": 1,
      "nav_menu": {},
      "number_sections": true,
      "sideBar": true,
      "skip_h1_title": false,
      "title_cell": "Table of Contents",
      "title_sidebar": "Contents",
      "toc_cell": false,
      "toc_position": {},
      "toc_section_display": true,
      "toc_window_display": false
    }
  },
  "nbformat": 4,
  "nbformat_minor": 0
}